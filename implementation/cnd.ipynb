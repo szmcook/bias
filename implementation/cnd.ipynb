{
 "metadata": {
  "language_info": {
   "codemirror_mode": {
    "name": "ipython",
    "version": 3
   },
   "file_extension": ".py",
   "mimetype": "text/x-python",
   "name": "python",
   "nbconvert_exporter": "python",
   "pygments_lexer": "ipython3",
   "version": 3
  },
  "orig_nbformat": 2
 },
 "nbformat": 4,
 "nbformat_minor": 2,
 "cells": [
  {
   "source": [
    "# Classification with No Discrimination\n",
    "\n",
    "This section will apply a transformation to the dataset and then build a bias free classifier.\n",
    "The intention is to keep accuracy levels high whilst reducing the KCDM measure"
   ],
   "cell_type": "markdown",
   "metadata": {}
  }
 ]
}