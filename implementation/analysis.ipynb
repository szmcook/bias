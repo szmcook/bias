{
 "metadata": {
  "language_info": {
   "codemirror_mode": {
    "name": "ipython",
    "version": 3
   },
   "file_extension": ".py",
   "mimetype": "text/x-python",
   "name": "python",
   "nbconvert_exporter": "python",
   "pygments_lexer": "ipython3",
   "version": "3.6.9-final"
  },
  "orig_nbformat": 2,
  "kernelspec": {
   "name": "python36964bit1fe2bb4cf81446c4930ef0f70b991c44",
   "display_name": "Python 3.6.9 64-bit"
  },
  "metadata": {
   "interpreter": {
    "hash": "31f2aee4e71d21fbe5cf8b01ff0e069b9275f58929596ceb00d14d90e3e16cd6"
   }
  }
 },
 "nbformat": 4,
 "nbformat_minor": 2,
 "cells": [
  {
   "source": [
    "# Data Analysis"
   ],
   "cell_type": "markdown",
   "metadata": {}
  },
  {
   "source": [
    "import pandas as pd\n",
    "import re\n",
    "\n",
    "with open('../german-credit-dataset/german.data', 'r') as infile:\n",
    "    data_contents = infile.read()    \n",
    "    data_contents = re.sub(r' ', \",\", data_contents)\n",
    "\n",
    "    with open('../german-credit-dataset/german.csv', 'w') as outfile:\n",
    "        outfile.write(data_contents)\n",
    "\n",
    "data = pd.read_csv('../german-credit-dataset/german.csv')\n",
    "\n",
    "for i in range(20):\n",
    "    print(data.iloc[:, i].value_counts())\n"
   ],
   "cell_type": "code",
   "metadata": {
    "tags": []
   },
   "execution_count": 31,
   "outputs": [
    {
     "output_type": "stream",
     "name": "stdout",
     "text": [
      "A14    394\nA11    273\nA12    269\nA13     63\nName: A11, dtype: int64\n24    184\n12    179\n18    113\n36     83\n6      74\n15     64\n9      49\n48     48\n30     40\n21     30\n10     28\n27     13\n60     13\n42     11\n11      9\n20      8\n8       7\n4       6\n39      5\n45      5\n7       5\n14      4\n13      4\n33      3\n28      3\n22      2\n16      2\n54      2\n26      1\n40      1\n47      1\n5       1\n72      1\nName: 6, dtype: int64\nA32    530\nA34    292\nA33     88\nA31     49\nA30     40\nName: A34, dtype: int64\nA43     279\nA40     234\nA42     181\nA41     103\nA49      97\nA46      50\nA45      22\nA44      12\nA410     12\nA48       9\nName: A43, dtype: int64\n1393    3\n1262    3\n1478    3\n1275    3\n1258    3\n       ..\n1346    1\n1345    1\n1343    1\n7485    1\n2051    1\nName: 1169, Length: 921, dtype: int64\nA61    603\nA65    182\nA62    103\nA63     63\nA64     48\nName: A65, dtype: int64\nA73    339\nA75    252\nA74    174\nA72    172\nA71     62\nName: A75, dtype: int64\n4    475\n2    231\n3    157\n1    136\nName: 4, dtype: int64\nA93    547\nA92    310\nA94     92\nA91     50\nName: A93, dtype: int64\nA101    906\nA103     52\nA102     41\nName: A101, dtype: int64\n4    412\n2    308\n3    149\n1    130\nName: 4.1, dtype: int64\nA123    332\nA121    281\nA122    232\nA124    154\nName: A121, dtype: int64\n27    51\n26    50\n23    48\n24    44\n28    43\n25    41\n35    40\n30    40\n36    39\n31    38\n29    37\n32    34\n33    33\n34    32\n37    29\n22    27\n40    25\n38    24\n42    22\n39    21\n46    18\n41    17\n43    17\n44    17\n47    17\n45    15\n21    14\n49    14\n20    14\n48    12\n50    12\n54    10\n52     9\n57     9\n55     8\n51     8\n63     8\n53     7\n61     7\n60     6\n64     5\n65     5\n66     5\n58     5\n74     4\n59     3\n68     3\n56     3\n75     2\n62     2\n67     2\n19     2\n70     1\nName: 67, dtype: int64\nA143    813\nA141    139\nA142     47\nName: A143, dtype: int64\nA152    712\nA151    179\nA153    108\nName: A152, dtype: int64\n1    633\n2    332\n3     28\n4      6\nName: 2, dtype: int64\nA173    629\nA172    200\nA174    148\nA171     22\nName: A173, dtype: int64\n1    844\n2    155\nName: 1, dtype: int64\nA191    596\nA192    403\nName: A192, dtype: int64\nA201    962\nA202     37\nName: A201, dtype: int64\n"
     ]
    }
   ]
  },
  {
   "cell_type": "code",
   "execution_count": null,
   "metadata": {},
   "outputs": [],
   "source": []
  }
 ]
}