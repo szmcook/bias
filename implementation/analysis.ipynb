{
 "metadata": {
  "language_info": {
   "codemirror_mode": {
    "name": "ipython",
    "version": 3
   },
   "file_extension": ".py",
   "mimetype": "text/x-python",
   "name": "python",
   "nbconvert_exporter": "python",
   "pygments_lexer": "ipython3",
   "version": "3.6.9-final"
  },
  "orig_nbformat": 2,
  "kernelspec": {
   "name": "python36964bit1fe2bb4cf81446c4930ef0f70b991c44",
   "display_name": "Python 3.6.9 64-bit"
  },
  "metadata": {
   "interpreter": {
    "hash": "31f2aee4e71d21fbe5cf8b01ff0e069b9275f58929596ceb00d14d90e3e16cd6"
   }
  }
 },
 "nbformat": 4,
 "nbformat_minor": 2,
 "cells": [
  {
   "source": [
    "# Data Analysis"
   ],
   "cell_type": "markdown",
   "metadata": {}
  },
  {
   "source": [
    "import pandas as pd\n",
    "import re\n",
    "\n",
    "with open('../german-credit-dataset/german.data', 'r') as infile:\n",
    "    data_contents = infile.read()    \n",
    "    data_contents = re.sub(r' ', \",\", data_contents)\n",
    "\n",
    "    with open('../german-credit-dataset/german.csv', 'w') as outfile:\n",
    "        outfile.write(data_contents)\n",
    "\n",
    "data = pd.read_csv('../german-credit-dataset/german.csv')\n",
    "data.columns = [\n",
    "    'Status of existing checking account', \n",
    "    'Duration in month',\n",
    "    'Credit history',\n",
    "    'Purpose',\n",
    "    'Credit amount',\n",
    "    'Savings account/bonds',\n",
    "    'Present employment since',\n",
    "    'Installment rate in percentage of disposable income',\n",
    "    'Personal status and sex',\n",
    "    'Other debtors / guarantors',\n",
    "    'Present residence since',\n",
    "    'Property',\n",
    "    'Age in years',\n",
    "    'Other installment plans',\n",
    "    'Housing',\n",
    "    'Number of existing credits at this bank',\n",
    "    'Job',\n",
    "    'Number of people being liable to provide maintenance for',\n",
    "    'Telephone',\n",
    "    'foreign worker',\n",
    "    'label']\n",
    "\n",
    "# FIXME The labels overwrite the first row.\n",
    "# print(data.iloc[0])\n",
    "\n",
    "young_group = data[data['Age in years'] <= 25]\n",
    "aged_group = data[data['Age in years'] > 25]\n",
    "\n",
    "# for i in range(20):\n",
    "#     print(aged_group.iloc[:, i].value_counts())\n",
    "\n",
    "g = 'Duration in month'\n",
    "print(aged_group[g].mean())\n",
    "print(aged_group[g].var())"
   ],
   "cell_type": "code",
   "metadata": {
    "tags": []
   },
   "execution_count": 73,
   "outputs": [
    {
     "output_type": "stream",
     "name": "stdout",
     "text": [
      "20.96786155747837\n144.53856980259212\n"
     ]
    }
   ]
  },
  {
   "cell_type": "code",
   "execution_count": null,
   "metadata": {},
   "outputs": [],
   "source": []
  }
 ]
}