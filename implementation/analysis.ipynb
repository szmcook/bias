{
 "metadata": {
  "language_info": {
   "codemirror_mode": {
    "name": "ipython",
    "version": 3
   },
   "file_extension": ".py",
   "mimetype": "text/x-python",
   "name": "python",
   "nbconvert_exporter": "python",
   "pygments_lexer": "ipython3",
   "version": "3.6.9-final"
  },
  "orig_nbformat": 2,
  "kernelspec": {
   "name": "python36964bit1fe2bb4cf81446c4930ef0f70b991c44",
   "display_name": "Python 3.6.9 64-bit"
  },
  "metadata": {
   "interpreter": {
    "hash": "31f2aee4e71d21fbe5cf8b01ff0e069b9275f58929596ceb00d14d90e3e16cd6"
   }
  }
 },
 "nbformat": 4,
 "nbformat_minor": 2,
 "cells": [
  {
   "source": [
    "# Data Analysis"
   ],
   "cell_type": "markdown",
   "metadata": {}
  },
  {
   "source": [
    "import pandas as pd\n",
    "import re\n",
    "\n",
    "with open('../german-credit-dataset/german.data', 'r') as infile:\n",
    "    data_contents = infile.read()    \n",
    "    data_contents = re.sub(r' ', \",\", data_contents)\n",
    "\n",
    "    with open('../german-credit-dataset/german.csv', 'w') as outfile:\n",
    "        outfile.write(data_contents)\n",
    "\n",
    "data = pd.read_csv('../german-credit-dataset/german.csv')\n",
    "\n",
    "data.columns = [\n",
    "    'Status of existing checking account', \n",
    "    'Duration in month',\n",
    "    'Credit history',\n",
    "    'Purpose',\n",
    "    'Credit amount',\n",
    "    'Savings account/bonds',\n",
    "    'Present employment since',\n",
    "    'Installment rate in percentage of disposable income',\n",
    "    'Personal status and sex',\n",
    "    'Other debtors / guarantors',\n",
    "    'Present residence since',\n",
    "    'Property',\n",
    "    'Age in years',\n",
    "    'Other installment plans',\n",
    "    'Housing',\n",
    "    'Number of existing credits at this bank',\n",
    "    'Job',\n",
    "    'Number of people being liable to provide maintenance for',\n",
    "    'Telephone',\n",
    "    'foreign worker',\n",
    "    'label']\n",
    "# FIXME The labels overwrite the first row.\n",
    "# print(data.iloc[0])\n",
    "\n",
    "young_group = data[data['Age in years'] <= 25]\n",
    "aged_group = data[data['Age in years'] > 25]\n",
    "\n",
    "for i in range(21):\n",
    "    print(young_group.iloc[:, i].value_counts())\n",
    "\n",
    "g = 'Duration in month'\n",
    "print(aged_group[g].mean())\n",
    "print(aged_group[g].var())"
   ],
   "cell_type": "code",
   "metadata": {
    "tags": []
   },
   "execution_count": 80,
   "outputs": [
    {
     "output_type": "stream",
     "name": "stdout",
     "text": [
      "A11    68\nA12    62\nA14    50\nA13    10\nName: Status of existing checking account, dtype: int64\n12    37\n24    34\n18    24\n15    17\n9     13\n36    11\n6     10\n30     9\n48     8\n10     4\n45     3\n21     3\n60     3\n39     2\n27     2\n13     2\n8      1\n72     1\n20     1\n11     1\n14     1\n22     1\n33     1\n4      1\nName: Duration in month, dtype: int64\nA32    137\nA34     33\nA31      8\nA33      7\nA30      5\nName: Credit history, dtype: int64\nA43    64\nA42    52\nA40    32\nA41    14\nA49    10\nA46     7\nA45     6\nA44     4\nA48     1\nName: Purpose, dtype: int64\n1258     2\n1275     2\n2039     2\n433      2\n3913     1\n        ..\n5152     1\n932      1\n674      1\n11560    1\n1282     1\nName: Credit amount, Length: 186, dtype: int64\nA61    123\nA65     28\nA62     22\nA63     11\nA64      6\nName: Savings account/bonds, dtype: int64\nA73    78\nA72    54\nA74    36\nA75    13\nA71     9\nName: Present employment since, dtype: int64\n4    82\n2    48\n1    33\n3    27\nName: Installment rate in percentage of disposable income, dtype: int64\nA92    105\nA93     56\nA94     27\nA91      2\nName: Personal status and sex, dtype: int64\nA101    170\nA103     11\nA102      9\nName: Other debtors / guarantors, dtype: int64\n4    84\n2    59\n1    30\n3    17\nName: Present residence since, dtype: int64\nA123    71\nA121    60\nA122    47\nA124    12\nName: Property, dtype: int64\n23    48\n24    44\n25    41\n22    27\n21    14\n20    14\n19     2\nName: Age in years, dtype: int64\nA143    161\nA141     20\nA142      9\nName: Other installment plans, dtype: int64\nA152    106\nA151     79\nA153      5\nName: Housing, dtype: int64\n1    145\n2     44\n3      1\nName: Number of existing credits at this bank, dtype: int64\nA173    138\nA172     42\nA174      5\nA171      5\nName: Job, dtype: int64\n1    184\n2      6\nName: Number of people being liable to provide maintenance for, dtype: int64\nA191    145\nA192     45\nName: Telephone, dtype: int64\nA201    187\nA202      3\nName: foreign worker, dtype: int64\n1    110\n2     80\nName: label, dtype: int64\n20.96786155747837\n144.53856980259212\n"
     ]
    }
   ]
  },
  {
   "cell_type": "code",
   "execution_count": null,
   "metadata": {},
   "outputs": [],
   "source": []
  }
 ]
}